{
  "cells": [
    {
      "cell_type": "code",
      "source": [
        "import pandas as pd\n",
        "pd.set_option('display.max_columns', None)"
      ],
      "outputs": [],
      "execution_count": 1,
      "metadata": {
        "ExecuteTime": {
          "end_time": "2024-11-22T00:37:45.771531Z",
          "start_time": "2024-11-22T00:37:45.290132Z"
        }
      },
      "id": "4e6ed1aaf5c6e405"
    },
    {
      "cell_type": "markdown",
      "source": [
        "## TASK 1"
      ],
      "metadata": {},
      "id": "fd9c530bc27033b7"
    },
    {
      "cell_type": "code",
      "source": [
        "stud_mat = pd.read_csv(\"student-mat.csv\")\n",
        "stud_por = pd.read_csv(\"student-por.csv\")\n",
        "# we read the data"
      ],
      "outputs": [],
      "execution_count": 2,
      "metadata": {
        "ExecuteTime": {
          "end_time": "2024-11-22T00:37:45.785389Z",
          "start_time": "2024-11-22T00:37:45.771531Z"
        }
      },
      "id": "443e9c55866d0595"
    },
    {
      "cell_type": "code",
      "source": [
        "stud_mat_expanded = (stud_mat.iloc[:, 0]).str.split(\";\", expand=True)\n",
        "stud_por_expanded = (stud_por.iloc[:, 0]).str.split(\";\", expand=True)\n",
        "stud_mat_expanded.head()\n",
        "# we split the data to have proper pandas data frame"
      ],
      "outputs": [
        {
          "output_type": "execute_result",
          "execution_count": 3,
          "data": {
            "text/plain": "   0    1   2    3      4    5  6  7          8           9         10  \\\n0  GP  \"F\"  18  \"U\"  \"GT3\"  \"A\"  4  4  \"at_home\"   \"teacher\"  \"course\"   \n1  GP  \"F\"  17  \"U\"  \"GT3\"  \"T\"  1  1  \"at_home\"     \"other\"  \"course\"   \n2  GP  \"F\"  15  \"U\"  \"LE3\"  \"T\"  1  1  \"at_home\"     \"other\"   \"other\"   \n3  GP  \"F\"  15  \"U\"  \"GT3\"  \"T\"  4  2   \"health\"  \"services\"    \"home\"   \n4  GP  \"F\"  16  \"U\"  \"GT3\"  \"T\"  3  3    \"other\"     \"other\"    \"home\"   \n\n         11 12 13 14     15     16     17     18     19     20     21     22  \\\n0  \"mother\"  2  2  0  \"yes\"   \"no\"   \"no\"   \"no\"  \"yes\"  \"yes\"   \"no\"   \"no\"   \n1  \"father\"  1  2  0   \"no\"  \"yes\"   \"no\"   \"no\"   \"no\"  \"yes\"  \"yes\"   \"no\"   \n2  \"mother\"  1  2  3  \"yes\"   \"no\"  \"yes\"   \"no\"  \"yes\"  \"yes\"  \"yes\"   \"no\"   \n3  \"mother\"  1  3  0   \"no\"  \"yes\"  \"yes\"  \"yes\"  \"yes\"  \"yes\"  \"yes\"  \"yes\"   \n4  \"father\"  1  2  0   \"no\"  \"yes\"  \"yes\"   \"no\"  \"yes\"  \"yes\"   \"no\"   \"no\"   \n\n  23 24 25 26 27 28  29    30    31  32  \n0  4  3  4  1  1  3   6   \"5\"   \"6\"   6  \n1  5  3  3  1  1  3   4   \"5\"   \"5\"   6  \n2  4  3  2  2  3  3  10   \"7\"   \"8\"  10  \n3  3  2  2  1  1  5   2  \"15\"  \"14\"  15  \n4  4  3  2  1  2  5   4   \"6\"  \"10\"  10  ",
            "text/html": "<div>\n<style scoped>\n    .dataframe tbody tr th:only-of-type {\n        vertical-align: middle;\n    }\n\n    .dataframe tbody tr th {\n        vertical-align: top;\n    }\n\n    .dataframe thead th {\n        text-align: right;\n    }\n</style>\n<table border=\"1\" class=\"dataframe\">\n  <thead>\n    <tr style=\"text-align: right;\">\n      <th></th>\n      <th>0</th>\n      <th>1</th>\n      <th>2</th>\n      <th>3</th>\n      <th>4</th>\n      <th>5</th>\n      <th>6</th>\n      <th>7</th>\n      <th>8</th>\n      <th>9</th>\n      <th>10</th>\n      <th>11</th>\n      <th>12</th>\n      <th>13</th>\n      <th>14</th>\n      <th>15</th>\n      <th>16</th>\n      <th>17</th>\n      <th>18</th>\n      <th>19</th>\n      <th>20</th>\n      <th>21</th>\n      <th>22</th>\n      <th>23</th>\n      <th>24</th>\n      <th>25</th>\n      <th>26</th>\n      <th>27</th>\n      <th>28</th>\n      <th>29</th>\n      <th>30</th>\n      <th>31</th>\n      <th>32</th>\n    </tr>\n  </thead>\n  <tbody>\n    <tr>\n      <th>0</th>\n      <td>GP</td>\n      <td>\"F\"</td>\n      <td>18</td>\n      <td>\"U\"</td>\n      <td>\"GT3\"</td>\n      <td>\"A\"</td>\n      <td>4</td>\n      <td>4</td>\n      <td>\"at_home\"</td>\n      <td>\"teacher\"</td>\n      <td>\"course\"</td>\n      <td>\"mother\"</td>\n      <td>2</td>\n      <td>2</td>\n      <td>0</td>\n      <td>\"yes\"</td>\n      <td>\"no\"</td>\n      <td>\"no\"</td>\n      <td>\"no\"</td>\n      <td>\"yes\"</td>\n      <td>\"yes\"</td>\n      <td>\"no\"</td>\n      <td>\"no\"</td>\n      <td>4</td>\n      <td>3</td>\n      <td>4</td>\n      <td>1</td>\n      <td>1</td>\n      <td>3</td>\n      <td>6</td>\n      <td>\"5\"</td>\n      <td>\"6\"</td>\n      <td>6</td>\n    </tr>\n    <tr>\n      <th>1</th>\n      <td>GP</td>\n      <td>\"F\"</td>\n      <td>17</td>\n      <td>\"U\"</td>\n      <td>\"GT3\"</td>\n      <td>\"T\"</td>\n      <td>1</td>\n      <td>1</td>\n      <td>\"at_home\"</td>\n      <td>\"other\"</td>\n      <td>\"course\"</td>\n      <td>\"father\"</td>\n      <td>1</td>\n      <td>2</td>\n      <td>0</td>\n      <td>\"no\"</td>\n      <td>\"yes\"</td>\n      <td>\"no\"</td>\n      <td>\"no\"</td>\n      <td>\"no\"</td>\n      <td>\"yes\"</td>\n      <td>\"yes\"</td>\n      <td>\"no\"</td>\n      <td>5</td>\n      <td>3</td>\n      <td>3</td>\n      <td>1</td>\n      <td>1</td>\n      <td>3</td>\n      <td>4</td>\n      <td>\"5\"</td>\n      <td>\"5\"</td>\n      <td>6</td>\n    </tr>\n    <tr>\n      <th>2</th>\n      <td>GP</td>\n      <td>\"F\"</td>\n      <td>15</td>\n      <td>\"U\"</td>\n      <td>\"LE3\"</td>\n      <td>\"T\"</td>\n      <td>1</td>\n      <td>1</td>\n      <td>\"at_home\"</td>\n      <td>\"other\"</td>\n      <td>\"other\"</td>\n      <td>\"mother\"</td>\n      <td>1</td>\n      <td>2</td>\n      <td>3</td>\n      <td>\"yes\"</td>\n      <td>\"no\"</td>\n      <td>\"yes\"</td>\n      <td>\"no\"</td>\n      <td>\"yes\"</td>\n      <td>\"yes\"</td>\n      <td>\"yes\"</td>\n      <td>\"no\"</td>\n      <td>4</td>\n      <td>3</td>\n      <td>2</td>\n      <td>2</td>\n      <td>3</td>\n      <td>3</td>\n      <td>10</td>\n      <td>\"7\"</td>\n      <td>\"8\"</td>\n      <td>10</td>\n    </tr>\n    <tr>\n      <th>3</th>\n      <td>GP</td>\n      <td>\"F\"</td>\n      <td>15</td>\n      <td>\"U\"</td>\n      <td>\"GT3\"</td>\n      <td>\"T\"</td>\n      <td>4</td>\n      <td>2</td>\n      <td>\"health\"</td>\n      <td>\"services\"</td>\n      <td>\"home\"</td>\n      <td>\"mother\"</td>\n      <td>1</td>\n      <td>3</td>\n      <td>0</td>\n      <td>\"no\"</td>\n      <td>\"yes\"</td>\n      <td>\"yes\"</td>\n      <td>\"yes\"</td>\n      <td>\"yes\"</td>\n      <td>\"yes\"</td>\n      <td>\"yes\"</td>\n      <td>\"yes\"</td>\n      <td>3</td>\n      <td>2</td>\n      <td>2</td>\n      <td>1</td>\n      <td>1</td>\n      <td>5</td>\n      <td>2</td>\n      <td>\"15\"</td>\n      <td>\"14\"</td>\n      <td>15</td>\n    </tr>\n    <tr>\n      <th>4</th>\n      <td>GP</td>\n      <td>\"F\"</td>\n      <td>16</td>\n      <td>\"U\"</td>\n      <td>\"GT3\"</td>\n      <td>\"T\"</td>\n      <td>3</td>\n      <td>3</td>\n      <td>\"other\"</td>\n      <td>\"other\"</td>\n      <td>\"home\"</td>\n      <td>\"father\"</td>\n      <td>1</td>\n      <td>2</td>\n      <td>0</td>\n      <td>\"no\"</td>\n      <td>\"yes\"</td>\n      <td>\"yes\"</td>\n      <td>\"no\"</td>\n      <td>\"yes\"</td>\n      <td>\"yes\"</td>\n      <td>\"no\"</td>\n      <td>\"no\"</td>\n      <td>4</td>\n      <td>3</td>\n      <td>2</td>\n      <td>1</td>\n      <td>2</td>\n      <td>5</td>\n      <td>4</td>\n      <td>\"6\"</td>\n      <td>\"10\"</td>\n      <td>10</td>\n    </tr>\n  </tbody>\n</table>\n</div>"
          },
          "metadata": {}
        }
      ],
      "execution_count": 3,
      "metadata": {
        "ExecuteTime": {
          "end_time": "2024-11-22T00:37:45.810543Z",
          "start_time": "2024-11-22T00:37:45.785389Z"
        }
      },
      "id": "ed324f3a23508827"
    },
    {
      "cell_type": "code",
      "source": [
        "key = [\"school\",\"sex\",\"age\",\"address\",\"famsize\",\"Pstatus\",\"Medu\",\"Fedu\",\"Mjob\",\"Fjob\",\"reason\",\"nursery\",\"internet\"]\n",
        "# we know from the R file attached to the downloaded .zip files,\n",
        "# that each student is uniquely distinguished by the key above"
      ],
      "outputs": [],
      "execution_count": 4,
      "metadata": {
        "ExecuteTime": {
          "end_time": "2024-11-22T00:37:45.814712Z",
          "start_time": "2024-11-22T00:37:45.810543Z"
        }
      },
      "id": "16cfe2332e3a4ae5"
    },
    {
      "cell_type": "code",
      "source": [
        "mat_column_names = stud_mat.columns.tolist()[0]\n",
        "mat_column_names_list = mat_column_names.split(\";\")\n",
        "for i in range(len(mat_column_names_list)):\n",
        "    if mat_column_names_list[i] not in key:\n",
        "        mat_column_names_list[i] += \"_mat\"\n",
        "stud_mat_expanded.columns = mat_column_names_list"
      ],
      "outputs": [],
      "execution_count": 5,
      "metadata": {
        "ExecuteTime": {
          "end_time": "2024-11-22T00:37:45.822796Z",
          "start_time": "2024-11-22T00:37:45.815721Z"
        }
      },
      "id": "94866d44fa541402"
    },
    {
      "cell_type": "code",
      "source": [
        "por_column_names = stud_por.columns.tolist()[0]\n",
        "por_column_names_list = por_column_names.split(\";\")\n",
        "for i in range(len(por_column_names_list)):\n",
        "    if por_column_names_list[i] not in key:\n",
        "        por_column_names_list[i] += \"_por\"\n",
        "stud_por_expanded.columns = por_column_names_list\n",
        "por_column_names_list\n",
        "# we want to have proper column names\n",
        "# moreover, we merge the tables by the key\n",
        "# and distinguish other columns whether it's math or portuguese"
      ],
      "outputs": [
        {
          "output_type": "execute_result",
          "execution_count": 6,
          "data": {
            "text/plain": "['school',\n 'sex',\n 'age',\n 'address',\n 'famsize',\n 'Pstatus',\n 'Medu',\n 'Fedu',\n 'Mjob',\n 'Fjob',\n 'reason',\n 'guardian_por',\n 'traveltime_por',\n 'studytime_por',\n 'failures_por',\n 'schoolsup_por',\n 'famsup_por',\n 'paid_por',\n 'activities_por',\n 'nursery',\n 'higher_por',\n 'internet',\n 'romantic_por',\n 'famrel_por',\n 'freetime_por',\n 'goout_por',\n 'Dalc_por',\n 'Walc_por',\n 'health_por',\n 'absences_por',\n 'G1_por',\n 'G2_por',\n 'G3_por']"
          },
          "metadata": {}
        }
      ],
      "execution_count": 6,
      "metadata": {
        "ExecuteTime": {
          "end_time": "2024-11-22T00:37:45.829805Z",
          "start_time": "2024-11-22T00:37:45.822796Z"
        }
      },
      "id": "c17d6121ee9bd093"
    },
    {
      "cell_type": "code",
      "source": [
        "students = pd.merge(stud_mat_expanded, stud_por_expanded, on=key, how=\"outer\")\n",
        "# the resulting merged \"students\" data frame\n",
        "students.head()"
      ],
      "outputs": [
        {
          "output_type": "execute_result",
          "execution_count": 7,
          "data": {
            "text/plain": "  school  sex age address famsize Pstatus Medu Fedu        Mjob      Fjob  \\\n0     GP  \"F\"  15     \"R\"   \"GT3\"     \"T\"    1    1   \"at_home\"   \"other\"   \n1     GP  \"F\"  15     \"R\"   \"GT3\"     \"T\"    1    1     \"other\"   \"other\"   \n2     GP  \"F\"  15     \"R\"   \"GT3\"     \"T\"    1    1     \"other\"   \"other\"   \n3     GP  \"F\"  15     \"R\"   \"GT3\"     \"T\"    2    2   \"at_home\"   \"other\"   \n4     GP  \"F\"  15     \"R\"   \"GT3\"     \"T\"    2    4  \"services\"  \"health\"   \n\n         reason guardian_mat traveltime_mat studytime_mat failures_mat  \\\n0        \"home\"     \"mother\"              2             4            1   \n1      \"course\"          NaN            NaN           NaN          NaN   \n2  \"reputation\"     \"mother\"              1             2            2   \n3  \"reputation\"     \"mother\"              1             1            0   \n4      \"course\"     \"mother\"              1             3            0   \n\n  schoolsup_mat famsup_mat paid_mat activities_mat nursery higher_mat  \\\n0         \"yes\"      \"yes\"    \"yes\"          \"yes\"   \"yes\"      \"yes\"   \n1           NaN        NaN      NaN            NaN   \"yes\"        NaN   \n2         \"yes\"      \"yes\"     \"no\"           \"no\"    \"no\"      \"yes\"   \n3         \"yes\"      \"yes\"    \"yes\"          \"yes\"   \"yes\"      \"yes\"   \n4         \"yes\"      \"yes\"    \"yes\"          \"yes\"   \"yes\"      \"yes\"   \n\n  internet romantic_mat famrel_mat freetime_mat goout_mat Dalc_mat Walc_mat  \\\n0    \"yes\"         \"no\"          3            1         2        1        1   \n1    \"yes\"          NaN        NaN          NaN       NaN      NaN      NaN   \n2    \"yes\"        \"yes\"          3            3         4        2        4   \n3     \"no\"         \"no\"          4            3         1        1        1   \n4    \"yes\"         \"no\"          4            3         2        1        1   \n\n  health_mat absences_mat G1_mat G2_mat G3_mat guardian_por traveltime_por  \\\n0          1            2    \"7\"   \"10\"     10     \"mother\"              2   \n1        NaN          NaN    NaN    NaN    NaN     \"mother\"              3   \n2          5            2    \"8\"    \"6\"      5     \"mother\"              1   \n3          2            8   \"14\"   \"13\"     13     \"mother\"              1   \n4          5            2   \"10\"    \"9\"      8     \"mother\"              1   \n\n  studytime_por failures_por schoolsup_por famsup_por paid_por activities_por  \\\n0             4            0         \"yes\"      \"yes\"    \"yes\"          \"yes\"   \n1             1            1          \"no\"       \"no\"     \"no\"          \"yes\"   \n2             2            0         \"yes\"      \"yes\"     \"no\"           \"no\"   \n3             1            0         \"yes\"      \"yes\"     \"no\"          \"yes\"   \n4             3            0         \"yes\"      \"yes\"     \"no\"          \"yes\"   \n\n  higher_por romantic_por famrel_por freetime_por goout_por Dalc_por Walc_por  \\\n0      \"yes\"         \"no\"          3            1         2        1        1   \n1      \"yes\"        \"yes\"          5            5         5        1        1   \n2      \"yes\"        \"yes\"          3            3         4        2        4   \n3      \"yes\"         \"no\"          4            3         1        1        1   \n4      \"yes\"         \"no\"          4            3         2        1        1   \n\n  health_por absences_por G1_por G2_por G3_por  \n0          1            4   \"13\"   \"13\"     13  \n1          1            2    \"8\"    \"9\"      9  \n2          5            2   \"13\"   \"11\"     11  \n3          2            8   \"14\"   \"13\"     12  \n4          5            2   \"10\"   \"11\"     10  ",
            "text/html": "<div>\n<style scoped>\n    .dataframe tbody tr th:only-of-type {\n        vertical-align: middle;\n    }\n\n    .dataframe tbody tr th {\n        vertical-align: top;\n    }\n\n    .dataframe thead th {\n        text-align: right;\n    }\n</style>\n<table border=\"1\" class=\"dataframe\">\n  <thead>\n    <tr style=\"text-align: right;\">\n      <th></th>\n      <th>school</th>\n      <th>sex</th>\n      <th>age</th>\n      <th>address</th>\n      <th>famsize</th>\n      <th>Pstatus</th>\n      <th>Medu</th>\n      <th>Fedu</th>\n      <th>Mjob</th>\n      <th>Fjob</th>\n      <th>reason</th>\n      <th>guardian_mat</th>\n      <th>traveltime_mat</th>\n      <th>studytime_mat</th>\n      <th>failures_mat</th>\n      <th>schoolsup_mat</th>\n      <th>famsup_mat</th>\n      <th>paid_mat</th>\n      <th>activities_mat</th>\n      <th>nursery</th>\n      <th>higher_mat</th>\n      <th>internet</th>\n      <th>romantic_mat</th>\n      <th>famrel_mat</th>\n      <th>freetime_mat</th>\n      <th>goout_mat</th>\n      <th>Dalc_mat</th>\n      <th>Walc_mat</th>\n      <th>health_mat</th>\n      <th>absences_mat</th>\n      <th>G1_mat</th>\n      <th>G2_mat</th>\n      <th>G3_mat</th>\n      <th>guardian_por</th>\n      <th>traveltime_por</th>\n      <th>studytime_por</th>\n      <th>failures_por</th>\n      <th>schoolsup_por</th>\n      <th>famsup_por</th>\n      <th>paid_por</th>\n      <th>activities_por</th>\n      <th>higher_por</th>\n      <th>romantic_por</th>\n      <th>famrel_por</th>\n      <th>freetime_por</th>\n      <th>goout_por</th>\n      <th>Dalc_por</th>\n      <th>Walc_por</th>\n      <th>health_por</th>\n      <th>absences_por</th>\n      <th>G1_por</th>\n      <th>G2_por</th>\n      <th>G3_por</th>\n    </tr>\n  </thead>\n  <tbody>\n    <tr>\n      <th>0</th>\n      <td>GP</td>\n      <td>\"F\"</td>\n      <td>15</td>\n      <td>\"R\"</td>\n      <td>\"GT3\"</td>\n      <td>\"T\"</td>\n      <td>1</td>\n      <td>1</td>\n      <td>\"at_home\"</td>\n      <td>\"other\"</td>\n      <td>\"home\"</td>\n      <td>\"mother\"</td>\n      <td>2</td>\n      <td>4</td>\n      <td>1</td>\n      <td>\"yes\"</td>\n      <td>\"yes\"</td>\n      <td>\"yes\"</td>\n      <td>\"yes\"</td>\n      <td>\"yes\"</td>\n      <td>\"yes\"</td>\n      <td>\"yes\"</td>\n      <td>\"no\"</td>\n      <td>3</td>\n      <td>1</td>\n      <td>2</td>\n      <td>1</td>\n      <td>1</td>\n      <td>1</td>\n      <td>2</td>\n      <td>\"7\"</td>\n      <td>\"10\"</td>\n      <td>10</td>\n      <td>\"mother\"</td>\n      <td>2</td>\n      <td>4</td>\n      <td>0</td>\n      <td>\"yes\"</td>\n      <td>\"yes\"</td>\n      <td>\"yes\"</td>\n      <td>\"yes\"</td>\n      <td>\"yes\"</td>\n      <td>\"no\"</td>\n      <td>3</td>\n      <td>1</td>\n      <td>2</td>\n      <td>1</td>\n      <td>1</td>\n      <td>1</td>\n      <td>4</td>\n      <td>\"13\"</td>\n      <td>\"13\"</td>\n      <td>13</td>\n    </tr>\n    <tr>\n      <th>1</th>\n      <td>GP</td>\n      <td>\"F\"</td>\n      <td>15</td>\n      <td>\"R\"</td>\n      <td>\"GT3\"</td>\n      <td>\"T\"</td>\n      <td>1</td>\n      <td>1</td>\n      <td>\"other\"</td>\n      <td>\"other\"</td>\n      <td>\"course\"</td>\n      <td>NaN</td>\n      <td>NaN</td>\n      <td>NaN</td>\n      <td>NaN</td>\n      <td>NaN</td>\n      <td>NaN</td>\n      <td>NaN</td>\n      <td>NaN</td>\n      <td>\"yes\"</td>\n      <td>NaN</td>\n      <td>\"yes\"</td>\n      <td>NaN</td>\n      <td>NaN</td>\n      <td>NaN</td>\n      <td>NaN</td>\n      <td>NaN</td>\n      <td>NaN</td>\n      <td>NaN</td>\n      <td>NaN</td>\n      <td>NaN</td>\n      <td>NaN</td>\n      <td>NaN</td>\n      <td>\"mother\"</td>\n      <td>3</td>\n      <td>1</td>\n      <td>1</td>\n      <td>\"no\"</td>\n      <td>\"no\"</td>\n      <td>\"no\"</td>\n      <td>\"yes\"</td>\n      <td>\"yes\"</td>\n      <td>\"yes\"</td>\n      <td>5</td>\n      <td>5</td>\n      <td>5</td>\n      <td>1</td>\n      <td>1</td>\n      <td>1</td>\n      <td>2</td>\n      <td>\"8\"</td>\n      <td>\"9\"</td>\n      <td>9</td>\n    </tr>\n    <tr>\n      <th>2</th>\n      <td>GP</td>\n      <td>\"F\"</td>\n      <td>15</td>\n      <td>\"R\"</td>\n      <td>\"GT3\"</td>\n      <td>\"T\"</td>\n      <td>1</td>\n      <td>1</td>\n      <td>\"other\"</td>\n      <td>\"other\"</td>\n      <td>\"reputation\"</td>\n      <td>\"mother\"</td>\n      <td>1</td>\n      <td>2</td>\n      <td>2</td>\n      <td>\"yes\"</td>\n      <td>\"yes\"</td>\n      <td>\"no\"</td>\n      <td>\"no\"</td>\n      <td>\"no\"</td>\n      <td>\"yes\"</td>\n      <td>\"yes\"</td>\n      <td>\"yes\"</td>\n      <td>3</td>\n      <td>3</td>\n      <td>4</td>\n      <td>2</td>\n      <td>4</td>\n      <td>5</td>\n      <td>2</td>\n      <td>\"8\"</td>\n      <td>\"6\"</td>\n      <td>5</td>\n      <td>\"mother\"</td>\n      <td>1</td>\n      <td>2</td>\n      <td>0</td>\n      <td>\"yes\"</td>\n      <td>\"yes\"</td>\n      <td>\"no\"</td>\n      <td>\"no\"</td>\n      <td>\"yes\"</td>\n      <td>\"yes\"</td>\n      <td>3</td>\n      <td>3</td>\n      <td>4</td>\n      <td>2</td>\n      <td>4</td>\n      <td>5</td>\n      <td>2</td>\n      <td>\"13\"</td>\n      <td>\"11\"</td>\n      <td>11</td>\n    </tr>\n    <tr>\n      <th>3</th>\n      <td>GP</td>\n      <td>\"F\"</td>\n      <td>15</td>\n      <td>\"R\"</td>\n      <td>\"GT3\"</td>\n      <td>\"T\"</td>\n      <td>2</td>\n      <td>2</td>\n      <td>\"at_home\"</td>\n      <td>\"other\"</td>\n      <td>\"reputation\"</td>\n      <td>\"mother\"</td>\n      <td>1</td>\n      <td>1</td>\n      <td>0</td>\n      <td>\"yes\"</td>\n      <td>\"yes\"</td>\n      <td>\"yes\"</td>\n      <td>\"yes\"</td>\n      <td>\"yes\"</td>\n      <td>\"yes\"</td>\n      <td>\"no\"</td>\n      <td>\"no\"</td>\n      <td>4</td>\n      <td>3</td>\n      <td>1</td>\n      <td>1</td>\n      <td>1</td>\n      <td>2</td>\n      <td>8</td>\n      <td>\"14\"</td>\n      <td>\"13\"</td>\n      <td>13</td>\n      <td>\"mother\"</td>\n      <td>1</td>\n      <td>1</td>\n      <td>0</td>\n      <td>\"yes\"</td>\n      <td>\"yes\"</td>\n      <td>\"no\"</td>\n      <td>\"yes\"</td>\n      <td>\"yes\"</td>\n      <td>\"no\"</td>\n      <td>4</td>\n      <td>3</td>\n      <td>1</td>\n      <td>1</td>\n      <td>1</td>\n      <td>2</td>\n      <td>8</td>\n      <td>\"14\"</td>\n      <td>\"13\"</td>\n      <td>12</td>\n    </tr>\n    <tr>\n      <th>4</th>\n      <td>GP</td>\n      <td>\"F\"</td>\n      <td>15</td>\n      <td>\"R\"</td>\n      <td>\"GT3\"</td>\n      <td>\"T\"</td>\n      <td>2</td>\n      <td>4</td>\n      <td>\"services\"</td>\n      <td>\"health\"</td>\n      <td>\"course\"</td>\n      <td>\"mother\"</td>\n      <td>1</td>\n      <td>3</td>\n      <td>0</td>\n      <td>\"yes\"</td>\n      <td>\"yes\"</td>\n      <td>\"yes\"</td>\n      <td>\"yes\"</td>\n      <td>\"yes\"</td>\n      <td>\"yes\"</td>\n      <td>\"yes\"</td>\n      <td>\"no\"</td>\n      <td>4</td>\n      <td>3</td>\n      <td>2</td>\n      <td>1</td>\n      <td>1</td>\n      <td>5</td>\n      <td>2</td>\n      <td>\"10\"</td>\n      <td>\"9\"</td>\n      <td>8</td>\n      <td>\"mother\"</td>\n      <td>1</td>\n      <td>3</td>\n      <td>0</td>\n      <td>\"yes\"</td>\n      <td>\"yes\"</td>\n      <td>\"no\"</td>\n      <td>\"yes\"</td>\n      <td>\"yes\"</td>\n      <td>\"no\"</td>\n      <td>4</td>\n      <td>3</td>\n      <td>2</td>\n      <td>1</td>\n      <td>1</td>\n      <td>5</td>\n      <td>2</td>\n      <td>\"10\"</td>\n      <td>\"11\"</td>\n      <td>10</td>\n    </tr>\n  </tbody>\n</table>\n</div>"
          },
          "metadata": {}
        }
      ],
      "execution_count": 7,
      "metadata": {
        "ExecuteTime": {
          "end_time": "2024-11-22T00:37:45.871241Z",
          "start_time": "2024-11-22T00:37:45.829805Z"
        }
      },
      "id": "23d1ea25aec469c1"
    },
    {
      "cell_type": "markdown",
      "source": [
        "## TASK 2"
      ],
      "metadata": {},
      "id": "214e894c0e82ca12"
    },
    {
      "cell_type": "code",
      "source": [
        "# Task 2.1\n",
        "\n",
        "students[\"final_mat\"] = pd.to_numeric(students[\"G3_mat\"], errors=\"coerce\").astype(\"Int64\")*5\n",
        "students[\"final_por\"] = pd.to_numeric(students[\"G3_por\"], errors=\"coerce\").astype(\"Int64\")*5\n",
        "# we multiply by 5, because in G3 the maximum is 20\n",
        "students.head()"
      ],
      "outputs": [
        {
          "output_type": "execute_result",
          "execution_count": 8,
          "data": {
            "text/plain": "  school  sex age address famsize Pstatus Medu Fedu        Mjob      Fjob  \\\n0     GP  \"F\"  15     \"R\"   \"GT3\"     \"T\"    1    1   \"at_home\"   \"other\"   \n1     GP  \"F\"  15     \"R\"   \"GT3\"     \"T\"    1    1     \"other\"   \"other\"   \n2     GP  \"F\"  15     \"R\"   \"GT3\"     \"T\"    1    1     \"other\"   \"other\"   \n3     GP  \"F\"  15     \"R\"   \"GT3\"     \"T\"    2    2   \"at_home\"   \"other\"   \n4     GP  \"F\"  15     \"R\"   \"GT3\"     \"T\"    2    4  \"services\"  \"health\"   \n\n         reason guardian_mat traveltime_mat studytime_mat failures_mat  \\\n0        \"home\"     \"mother\"              2             4            1   \n1      \"course\"          NaN            NaN           NaN          NaN   \n2  \"reputation\"     \"mother\"              1             2            2   \n3  \"reputation\"     \"mother\"              1             1            0   \n4      \"course\"     \"mother\"              1             3            0   \n\n  schoolsup_mat famsup_mat paid_mat activities_mat nursery higher_mat  \\\n0         \"yes\"      \"yes\"    \"yes\"          \"yes\"   \"yes\"      \"yes\"   \n1           NaN        NaN      NaN            NaN   \"yes\"        NaN   \n2         \"yes\"      \"yes\"     \"no\"           \"no\"    \"no\"      \"yes\"   \n3         \"yes\"      \"yes\"    \"yes\"          \"yes\"   \"yes\"      \"yes\"   \n4         \"yes\"      \"yes\"    \"yes\"          \"yes\"   \"yes\"      \"yes\"   \n\n  internet romantic_mat famrel_mat freetime_mat goout_mat Dalc_mat Walc_mat  \\\n0    \"yes\"         \"no\"          3            1         2        1        1   \n1    \"yes\"          NaN        NaN          NaN       NaN      NaN      NaN   \n2    \"yes\"        \"yes\"          3            3         4        2        4   \n3     \"no\"         \"no\"          4            3         1        1        1   \n4    \"yes\"         \"no\"          4            3         2        1        1   \n\n  health_mat absences_mat G1_mat G2_mat G3_mat guardian_por traveltime_por  \\\n0          1            2    \"7\"   \"10\"     10     \"mother\"              2   \n1        NaN          NaN    NaN    NaN    NaN     \"mother\"              3   \n2          5            2    \"8\"    \"6\"      5     \"mother\"              1   \n3          2            8   \"14\"   \"13\"     13     \"mother\"              1   \n4          5            2   \"10\"    \"9\"      8     \"mother\"              1   \n\n  studytime_por failures_por schoolsup_por famsup_por paid_por activities_por  \\\n0             4            0         \"yes\"      \"yes\"    \"yes\"          \"yes\"   \n1             1            1          \"no\"       \"no\"     \"no\"          \"yes\"   \n2             2            0         \"yes\"      \"yes\"     \"no\"           \"no\"   \n3             1            0         \"yes\"      \"yes\"     \"no\"          \"yes\"   \n4             3            0         \"yes\"      \"yes\"     \"no\"          \"yes\"   \n\n  higher_por romantic_por famrel_por freetime_por goout_por Dalc_por Walc_por  \\\n0      \"yes\"         \"no\"          3            1         2        1        1   \n1      \"yes\"        \"yes\"          5            5         5        1        1   \n2      \"yes\"        \"yes\"          3            3         4        2        4   \n3      \"yes\"         \"no\"          4            3         1        1        1   \n4      \"yes\"         \"no\"          4            3         2        1        1   \n\n  health_por absences_por G1_por G2_por G3_por  final_mat  final_por  \n0          1            4   \"13\"   \"13\"     13         50         65  \n1          1            2    \"8\"    \"9\"      9       <NA>         45  \n2          5            2   \"13\"   \"11\"     11         25         55  \n3          2            8   \"14\"   \"13\"     12         65         60  \n4          5            2   \"10\"   \"11\"     10         40         50  ",
            "text/html": "<div>\n<style scoped>\n    .dataframe tbody tr th:only-of-type {\n        vertical-align: middle;\n    }\n\n    .dataframe tbody tr th {\n        vertical-align: top;\n    }\n\n    .dataframe thead th {\n        text-align: right;\n    }\n</style>\n<table border=\"1\" class=\"dataframe\">\n  <thead>\n    <tr style=\"text-align: right;\">\n      <th></th>\n      <th>school</th>\n      <th>sex</th>\n      <th>age</th>\n      <th>address</th>\n      <th>famsize</th>\n      <th>Pstatus</th>\n      <th>Medu</th>\n      <th>Fedu</th>\n      <th>Mjob</th>\n      <th>Fjob</th>\n      <th>reason</th>\n      <th>guardian_mat</th>\n      <th>traveltime_mat</th>\n      <th>studytime_mat</th>\n      <th>failures_mat</th>\n      <th>schoolsup_mat</th>\n      <th>famsup_mat</th>\n      <th>paid_mat</th>\n      <th>activities_mat</th>\n      <th>nursery</th>\n      <th>higher_mat</th>\n      <th>internet</th>\n      <th>romantic_mat</th>\n      <th>famrel_mat</th>\n      <th>freetime_mat</th>\n      <th>goout_mat</th>\n      <th>Dalc_mat</th>\n      <th>Walc_mat</th>\n      <th>health_mat</th>\n      <th>absences_mat</th>\n      <th>G1_mat</th>\n      <th>G2_mat</th>\n      <th>G3_mat</th>\n      <th>guardian_por</th>\n      <th>traveltime_por</th>\n      <th>studytime_por</th>\n      <th>failures_por</th>\n      <th>schoolsup_por</th>\n      <th>famsup_por</th>\n      <th>paid_por</th>\n      <th>activities_por</th>\n      <th>higher_por</th>\n      <th>romantic_por</th>\n      <th>famrel_por</th>\n      <th>freetime_por</th>\n      <th>goout_por</th>\n      <th>Dalc_por</th>\n      <th>Walc_por</th>\n      <th>health_por</th>\n      <th>absences_por</th>\n      <th>G1_por</th>\n      <th>G2_por</th>\n      <th>G3_por</th>\n      <th>final_mat</th>\n      <th>final_por</th>\n    </tr>\n  </thead>\n  <tbody>\n    <tr>\n      <th>0</th>\n      <td>GP</td>\n      <td>\"F\"</td>\n      <td>15</td>\n      <td>\"R\"</td>\n      <td>\"GT3\"</td>\n      <td>\"T\"</td>\n      <td>1</td>\n      <td>1</td>\n      <td>\"at_home\"</td>\n      <td>\"other\"</td>\n      <td>\"home\"</td>\n      <td>\"mother\"</td>\n      <td>2</td>\n      <td>4</td>\n      <td>1</td>\n      <td>\"yes\"</td>\n      <td>\"yes\"</td>\n      <td>\"yes\"</td>\n      <td>\"yes\"</td>\n      <td>\"yes\"</td>\n      <td>\"yes\"</td>\n      <td>\"yes\"</td>\n      <td>\"no\"</td>\n      <td>3</td>\n      <td>1</td>\n      <td>2</td>\n      <td>1</td>\n      <td>1</td>\n      <td>1</td>\n      <td>2</td>\n      <td>\"7\"</td>\n      <td>\"10\"</td>\n      <td>10</td>\n      <td>\"mother\"</td>\n      <td>2</td>\n      <td>4</td>\n      <td>0</td>\n      <td>\"yes\"</td>\n      <td>\"yes\"</td>\n      <td>\"yes\"</td>\n      <td>\"yes\"</td>\n      <td>\"yes\"</td>\n      <td>\"no\"</td>\n      <td>3</td>\n      <td>1</td>\n      <td>2</td>\n      <td>1</td>\n      <td>1</td>\n      <td>1</td>\n      <td>4</td>\n      <td>\"13\"</td>\n      <td>\"13\"</td>\n      <td>13</td>\n      <td>50</td>\n      <td>65</td>\n    </tr>\n    <tr>\n      <th>1</th>\n      <td>GP</td>\n      <td>\"F\"</td>\n      <td>15</td>\n      <td>\"R\"</td>\n      <td>\"GT3\"</td>\n      <td>\"T\"</td>\n      <td>1</td>\n      <td>1</td>\n      <td>\"other\"</td>\n      <td>\"other\"</td>\n      <td>\"course\"</td>\n      <td>NaN</td>\n      <td>NaN</td>\n      <td>NaN</td>\n      <td>NaN</td>\n      <td>NaN</td>\n      <td>NaN</td>\n      <td>NaN</td>\n      <td>NaN</td>\n      <td>\"yes\"</td>\n      <td>NaN</td>\n      <td>\"yes\"</td>\n      <td>NaN</td>\n      <td>NaN</td>\n      <td>NaN</td>\n      <td>NaN</td>\n      <td>NaN</td>\n      <td>NaN</td>\n      <td>NaN</td>\n      <td>NaN</td>\n      <td>NaN</td>\n      <td>NaN</td>\n      <td>NaN</td>\n      <td>\"mother\"</td>\n      <td>3</td>\n      <td>1</td>\n      <td>1</td>\n      <td>\"no\"</td>\n      <td>\"no\"</td>\n      <td>\"no\"</td>\n      <td>\"yes\"</td>\n      <td>\"yes\"</td>\n      <td>\"yes\"</td>\n      <td>5</td>\n      <td>5</td>\n      <td>5</td>\n      <td>1</td>\n      <td>1</td>\n      <td>1</td>\n      <td>2</td>\n      <td>\"8\"</td>\n      <td>\"9\"</td>\n      <td>9</td>\n      <td>&lt;NA&gt;</td>\n      <td>45</td>\n    </tr>\n    <tr>\n      <th>2</th>\n      <td>GP</td>\n      <td>\"F\"</td>\n      <td>15</td>\n      <td>\"R\"</td>\n      <td>\"GT3\"</td>\n      <td>\"T\"</td>\n      <td>1</td>\n      <td>1</td>\n      <td>\"other\"</td>\n      <td>\"other\"</td>\n      <td>\"reputation\"</td>\n      <td>\"mother\"</td>\n      <td>1</td>\n      <td>2</td>\n      <td>2</td>\n      <td>\"yes\"</td>\n      <td>\"yes\"</td>\n      <td>\"no\"</td>\n      <td>\"no\"</td>\n      <td>\"no\"</td>\n      <td>\"yes\"</td>\n      <td>\"yes\"</td>\n      <td>\"yes\"</td>\n      <td>3</td>\n      <td>3</td>\n      <td>4</td>\n      <td>2</td>\n      <td>4</td>\n      <td>5</td>\n      <td>2</td>\n      <td>\"8\"</td>\n      <td>\"6\"</td>\n      <td>5</td>\n      <td>\"mother\"</td>\n      <td>1</td>\n      <td>2</td>\n      <td>0</td>\n      <td>\"yes\"</td>\n      <td>\"yes\"</td>\n      <td>\"no\"</td>\n      <td>\"no\"</td>\n      <td>\"yes\"</td>\n      <td>\"yes\"</td>\n      <td>3</td>\n      <td>3</td>\n      <td>4</td>\n      <td>2</td>\n      <td>4</td>\n      <td>5</td>\n      <td>2</td>\n      <td>\"13\"</td>\n      <td>\"11\"</td>\n      <td>11</td>\n      <td>25</td>\n      <td>55</td>\n    </tr>\n    <tr>\n      <th>3</th>\n      <td>GP</td>\n      <td>\"F\"</td>\n      <td>15</td>\n      <td>\"R\"</td>\n      <td>\"GT3\"</td>\n      <td>\"T\"</td>\n      <td>2</td>\n      <td>2</td>\n      <td>\"at_home\"</td>\n      <td>\"other\"</td>\n      <td>\"reputation\"</td>\n      <td>\"mother\"</td>\n      <td>1</td>\n      <td>1</td>\n      <td>0</td>\n      <td>\"yes\"</td>\n      <td>\"yes\"</td>\n      <td>\"yes\"</td>\n      <td>\"yes\"</td>\n      <td>\"yes\"</td>\n      <td>\"yes\"</td>\n      <td>\"no\"</td>\n      <td>\"no\"</td>\n      <td>4</td>\n      <td>3</td>\n      <td>1</td>\n      <td>1</td>\n      <td>1</td>\n      <td>2</td>\n      <td>8</td>\n      <td>\"14\"</td>\n      <td>\"13\"</td>\n      <td>13</td>\n      <td>\"mother\"</td>\n      <td>1</td>\n      <td>1</td>\n      <td>0</td>\n      <td>\"yes\"</td>\n      <td>\"yes\"</td>\n      <td>\"no\"</td>\n      <td>\"yes\"</td>\n      <td>\"yes\"</td>\n      <td>\"no\"</td>\n      <td>4</td>\n      <td>3</td>\n      <td>1</td>\n      <td>1</td>\n      <td>1</td>\n      <td>2</td>\n      <td>8</td>\n      <td>\"14\"</td>\n      <td>\"13\"</td>\n      <td>12</td>\n      <td>65</td>\n      <td>60</td>\n    </tr>\n    <tr>\n      <th>4</th>\n      <td>GP</td>\n      <td>\"F\"</td>\n      <td>15</td>\n      <td>\"R\"</td>\n      <td>\"GT3\"</td>\n      <td>\"T\"</td>\n      <td>2</td>\n      <td>4</td>\n      <td>\"services\"</td>\n      <td>\"health\"</td>\n      <td>\"course\"</td>\n      <td>\"mother\"</td>\n      <td>1</td>\n      <td>3</td>\n      <td>0</td>\n      <td>\"yes\"</td>\n      <td>\"yes\"</td>\n      <td>\"yes\"</td>\n      <td>\"yes\"</td>\n      <td>\"yes\"</td>\n      <td>\"yes\"</td>\n      <td>\"yes\"</td>\n      <td>\"no\"</td>\n      <td>4</td>\n      <td>3</td>\n      <td>2</td>\n      <td>1</td>\n      <td>1</td>\n      <td>5</td>\n      <td>2</td>\n      <td>\"10\"</td>\n      <td>\"9\"</td>\n      <td>8</td>\n      <td>\"mother\"</td>\n      <td>1</td>\n      <td>3</td>\n      <td>0</td>\n      <td>\"yes\"</td>\n      <td>\"yes\"</td>\n      <td>\"no\"</td>\n      <td>\"yes\"</td>\n      <td>\"yes\"</td>\n      <td>\"no\"</td>\n      <td>4</td>\n      <td>3</td>\n      <td>2</td>\n      <td>1</td>\n      <td>1</td>\n      <td>5</td>\n      <td>2</td>\n      <td>\"10\"</td>\n      <td>\"11\"</td>\n      <td>10</td>\n      <td>40</td>\n      <td>50</td>\n    </tr>\n  </tbody>\n</table>\n</div>"
          },
          "metadata": {}
        }
      ],
      "execution_count": 8,
      "metadata": {
        "ExecuteTime": {
          "end_time": "2024-11-22T00:37:45.903909Z",
          "start_time": "2024-11-22T00:37:45.871241Z"
        }
      },
      "id": "e8c1e29d15499f07"
    },
    {
      "cell_type": "code",
      "source": [
        "# Task 2.2\n",
        "\n",
        "mat_stud = students.dropna(subset=[\"final_mat\"])\n",
        "weekly_mat = mat_stud.groupby(\"studytime_mat\")[\"final_mat\"].agg([\"min\", \"max\", \"mean\", \"median\"])\n",
        "weekly_mat"
      ],
      "outputs": [
        {
          "output_type": "execute_result",
          "execution_count": 9,
          "data": {
            "text/plain": "               min  max       mean  median\nstudytime_mat                             \n1                0   95  49.363636    50.0\n2                0   95  50.541872    55.0\n3                0   95  57.313433    60.0\n4                0  100  56.296296    60.0",
            "text/html": "<div>\n<style scoped>\n    .dataframe tbody tr th:only-of-type {\n        vertical-align: middle;\n    }\n\n    .dataframe tbody tr th {\n        vertical-align: top;\n    }\n\n    .dataframe thead th {\n        text-align: right;\n    }\n</style>\n<table border=\"1\" class=\"dataframe\">\n  <thead>\n    <tr style=\"text-align: right;\">\n      <th></th>\n      <th>min</th>\n      <th>max</th>\n      <th>mean</th>\n      <th>median</th>\n    </tr>\n    <tr>\n      <th>studytime_mat</th>\n      <th></th>\n      <th></th>\n      <th></th>\n      <th></th>\n    </tr>\n  </thead>\n  <tbody>\n    <tr>\n      <th>1</th>\n      <td>0</td>\n      <td>95</td>\n      <td>49.363636</td>\n      <td>50.0</td>\n    </tr>\n    <tr>\n      <th>2</th>\n      <td>0</td>\n      <td>95</td>\n      <td>50.541872</td>\n      <td>55.0</td>\n    </tr>\n    <tr>\n      <th>3</th>\n      <td>0</td>\n      <td>95</td>\n      <td>57.313433</td>\n      <td>60.0</td>\n    </tr>\n    <tr>\n      <th>4</th>\n      <td>0</td>\n      <td>100</td>\n      <td>56.296296</td>\n      <td>60.0</td>\n    </tr>\n  </tbody>\n</table>\n</div>"
          },
          "metadata": {}
        }
      ],
      "execution_count": 9,
      "metadata": {
        "ExecuteTime": {
          "end_time": "2024-11-22T00:37:45.922581Z",
          "start_time": "2024-11-22T00:37:45.903909Z"
        }
      },
      "id": "9fab4633fa5f2125"
    },
    {
      "cell_type": "code",
      "source": [
        "por_stud = students.dropna(subset=[\"final_por\"])\n",
        "weekly_por = por_stud.groupby(\"studytime_por\")[\"final_por\"].agg([\"min\", \"max\", \"mean\", \"median\"])\n",
        "weekly_por"
      ],
      "outputs": [
        {
          "output_type": "execute_result",
          "execution_count": 10,
          "data": {
            "text/plain": "               min  max       mean  median\nstudytime_por                             \n1                0   90  54.050926    55.0\n2                0   95  60.519481    60.0\n3               40   90  66.173469    65.0\n4               30   95  65.285714    65.0",
            "text/html": "<div>\n<style scoped>\n    .dataframe tbody tr th:only-of-type {\n        vertical-align: middle;\n    }\n\n    .dataframe tbody tr th {\n        vertical-align: top;\n    }\n\n    .dataframe thead th {\n        text-align: right;\n    }\n</style>\n<table border=\"1\" class=\"dataframe\">\n  <thead>\n    <tr style=\"text-align: right;\">\n      <th></th>\n      <th>min</th>\n      <th>max</th>\n      <th>mean</th>\n      <th>median</th>\n    </tr>\n    <tr>\n      <th>studytime_por</th>\n      <th></th>\n      <th></th>\n      <th></th>\n      <th></th>\n    </tr>\n  </thead>\n  <tbody>\n    <tr>\n      <th>1</th>\n      <td>0</td>\n      <td>90</td>\n      <td>54.050926</td>\n      <td>55.0</td>\n    </tr>\n    <tr>\n      <th>2</th>\n      <td>0</td>\n      <td>95</td>\n      <td>60.519481</td>\n      <td>60.0</td>\n    </tr>\n    <tr>\n      <th>3</th>\n      <td>40</td>\n      <td>90</td>\n      <td>66.173469</td>\n      <td>65.0</td>\n    </tr>\n    <tr>\n      <th>4</th>\n      <td>30</td>\n      <td>95</td>\n      <td>65.285714</td>\n      <td>65.0</td>\n    </tr>\n  </tbody>\n</table>\n</div>"
          },
          "metadata": {}
        }
      ],
      "execution_count": 10,
      "metadata": {
        "ExecuteTime": {
          "end_time": "2024-11-22T00:37:45.937645Z",
          "start_time": "2024-11-22T00:37:45.922581Z"
        }
      },
      "id": "855c989de23d39fc"
    },
    {
      "cell_type": "code",
      "source": [
        "# we can say that there is a difference in final grades, whether you study less than 5 hours,\n",
        "# which are groups 1 and 2, or more than 5 hours, which are groups 3 and 4 (and they of course\n",
        "# have better results; the differences between studying 5-10 hours (group 3)\n",
        "# and studying more than 10 hours (group 4) are mostly insignificant"
      ],
      "outputs": [],
      "execution_count": 11,
      "metadata": {
        "ExecuteTime": {
          "end_time": "2024-11-22T00:37:45.941244Z",
          "start_time": "2024-11-22T00:37:45.937645Z"
        }
      },
      "id": "486a3133babb867d"
    },
    {
      "cell_type": "code",
      "source": [
        "# Task 2.3\n",
        "\n",
        "mat_abs = students.dropna(subset=[\"absences_mat\"])\n",
        "mat_covariance = mat_abs[\"age\"].cov(mat_abs[\"absences_mat\"])\n",
        "mat_variance_age = mat_abs[\"age\"].astype(\"Int64\").var(axis=0)\n",
        "mat_variance_absences = mat_abs[\"absences_mat\"].astype(\"Int64\").var(axis=0)\n",
        "(mat_covariance / ((mat_variance_age * mat_variance_absences) ** 0.5))"
      ],
      "outputs": [
        {
          "output_type": "execute_result",
          "execution_count": 12,
          "data": {
            "text/plain": "np.float64(0.17658181855558286)"
          },
          "metadata": {}
        }
      ],
      "execution_count": 12,
      "metadata": {
        "ExecuteTime": {
          "end_time": "2024-11-22T00:37:45.953596Z",
          "start_time": "2024-11-22T00:37:45.942755Z"
        }
      },
      "id": "75981c2d786b667b"
    },
    {
      "cell_type": "code",
      "source": [
        "por_abs = students.dropna(subset=[\"absences_por\"])\n",
        "por_covariance = por_abs[\"age\"].cov(por_abs[\"absences_por\"])\n",
        "por_variance_age = por_abs[\"age\"].astype(\"Int64\").var(axis=0)\n",
        "por_variance_absences = por_abs[\"absences_por\"].astype(\"Int64\").var(axis=0)\n",
        "(por_covariance / ((por_variance_age * por_variance_absences) ** 0.5))\n",
        "\n",
        "# we see that there is a slight (nearly not visible) correlation, that\n",
        "# the bigger the age, the bigger number of absences"
      ],
      "outputs": [
        {
          "output_type": "execute_result",
          "execution_count": 13,
          "data": {
            "text/plain": "np.float64(0.14506534463300422)"
          },
          "metadata": {}
        }
      ],
      "execution_count": 13,
      "metadata": {
        "ExecuteTime": {
          "end_time": "2024-11-22T00:37:45.966804Z",
          "start_time": "2024-11-22T00:37:45.953596Z"
        }
      },
      "id": "8478f92d65b7163f"
    },
    {
      "cell_type": "markdown",
      "source": [
        "## TASK 3"
      ],
      "metadata": {},
      "id": "ec5807b0d8e4d77d"
    },
    {
      "cell_type": "code",
      "source": [
        "# on this task we will only consider the math's class, because\n",
        "# portugal's is analogous, so we focus on a variable \"mat_stud\" from before (Task 2.2)\n",
        "\n",
        "# Task 3.1"
      ],
      "outputs": [],
      "execution_count": 14,
      "metadata": {
        "ExecuteTime": {
          "end_time": "2024-11-22T00:37:45.972011Z",
          "start_time": "2024-11-22T00:37:45.966804Z"
        }
      },
      "id": "cb43b31f0be90fe0"
    },
    {
      "cell_type": "code",
      "source": [
        "alc_influence = mat_stud.groupby([\"Dalc_mat\", \"Walc_mat\"])[\"final_mat\"].agg([\"mean\", \"count\"])\n",
        "alc_influence\n",
        "# it seems that the influence of alcohol is not as significant as it could seem,\n",
        "# even though there are some critically low values, but it's usually just a few or even one person;\n",
        "# the biggest influence of the alcohol is where the daily alcohol consumption is 2,\n",
        "# which could lead to hypothesis that low everyday alcohol consumption could be a\n",
        "# dangerous way of dealing with everyday problems (where probably not too long time ago\n",
        "# it wasn't the case; and people from group 3-5 may be \"used to\" function under regular\n",
        "# alcohol consumption)\n",
        "\n",
        "# by any means it's not based on personal experience"
      ],
      "outputs": [
        {
          "output_type": "execute_result",
          "execution_count": 15,
          "data": {
            "text/plain": "                        mean  count\nDalc_mat Walc_mat                  \n1        1         53.863636    154\n         2         52.028986     69\n         3         55.232558     43\n         4           50.9375     16\n         5             53.75      4\n2        1               0.0      2\n         2         41.052632     19\n         3         53.275862     29\n         4         41.590909     22\n         5              46.0      5\n3        2              60.0      1\n         3             48.75      8\n         4         55.909091     11\n         5              50.0      6\n4        2              55.0      1\n         3              25.0      1\n         4         56.666667      3\n         5             48.75      4\n5        5         53.333333      9",
            "text/html": "<div>\n<style scoped>\n    .dataframe tbody tr th:only-of-type {\n        vertical-align: middle;\n    }\n\n    .dataframe tbody tr th {\n        vertical-align: top;\n    }\n\n    .dataframe thead th {\n        text-align: right;\n    }\n</style>\n<table border=\"1\" class=\"dataframe\">\n  <thead>\n    <tr style=\"text-align: right;\">\n      <th></th>\n      <th></th>\n      <th>mean</th>\n      <th>count</th>\n    </tr>\n    <tr>\n      <th>Dalc_mat</th>\n      <th>Walc_mat</th>\n      <th></th>\n      <th></th>\n    </tr>\n  </thead>\n  <tbody>\n    <tr>\n      <th rowspan=\"5\" valign=\"top\">1</th>\n      <th>1</th>\n      <td>53.863636</td>\n      <td>154</td>\n    </tr>\n    <tr>\n      <th>2</th>\n      <td>52.028986</td>\n      <td>69</td>\n    </tr>\n    <tr>\n      <th>3</th>\n      <td>55.232558</td>\n      <td>43</td>\n    </tr>\n    <tr>\n      <th>4</th>\n      <td>50.9375</td>\n      <td>16</td>\n    </tr>\n    <tr>\n      <th>5</th>\n      <td>53.75</td>\n      <td>4</td>\n    </tr>\n    <tr>\n      <th rowspan=\"5\" valign=\"top\">2</th>\n      <th>1</th>\n      <td>0.0</td>\n      <td>2</td>\n    </tr>\n    <tr>\n      <th>2</th>\n      <td>41.052632</td>\n      <td>19</td>\n    </tr>\n    <tr>\n      <th>3</th>\n      <td>53.275862</td>\n      <td>29</td>\n    </tr>\n    <tr>\n      <th>4</th>\n      <td>41.590909</td>\n      <td>22</td>\n    </tr>\n    <tr>\n      <th>5</th>\n      <td>46.0</td>\n      <td>5</td>\n    </tr>\n    <tr>\n      <th rowspan=\"4\" valign=\"top\">3</th>\n      <th>2</th>\n      <td>60.0</td>\n      <td>1</td>\n    </tr>\n    <tr>\n      <th>3</th>\n      <td>48.75</td>\n      <td>8</td>\n    </tr>\n    <tr>\n      <th>4</th>\n      <td>55.909091</td>\n      <td>11</td>\n    </tr>\n    <tr>\n      <th>5</th>\n      <td>50.0</td>\n      <td>6</td>\n    </tr>\n    <tr>\n      <th rowspan=\"4\" valign=\"top\">4</th>\n      <th>2</th>\n      <td>55.0</td>\n      <td>1</td>\n    </tr>\n    <tr>\n      <th>3</th>\n      <td>25.0</td>\n      <td>1</td>\n    </tr>\n    <tr>\n      <th>4</th>\n      <td>56.666667</td>\n      <td>3</td>\n    </tr>\n    <tr>\n      <th>5</th>\n      <td>48.75</td>\n      <td>4</td>\n    </tr>\n    <tr>\n      <th>5</th>\n      <th>5</th>\n      <td>53.333333</td>\n      <td>9</td>\n    </tr>\n  </tbody>\n</table>\n</div>"
          },
          "metadata": {}
        }
      ],
      "execution_count": 15,
      "metadata": {
        "ExecuteTime": {
          "end_time": "2024-11-22T00:37:45.987209Z",
          "start_time": "2024-11-22T00:37:45.972011Z"
        }
      },
      "id": "f9afcf0f468f6ea4"
    },
    {
      "cell_type": "code",
      "source": [
        "# Task 3.2\n",
        "\n",
        "pd.set_option(\"future.no_silent_downcasting\", True)\n",
        "mat_stud2 = mat_stud.replace({'\"yes\"': 1, '\"no\"': 0})\n",
        "mat_stud2.head()\n",
        "# we set \"no silent downcasting\" because otherwise there is a warning"
      ],
      "outputs": [
        {
          "output_type": "execute_result",
          "execution_count": 16,
          "data": {
            "text/plain": "  school  sex age address famsize Pstatus Medu Fedu        Mjob        Fjob  \\\n0     GP  \"F\"  15     \"R\"   \"GT3\"     \"T\"    1    1   \"at_home\"     \"other\"   \n2     GP  \"F\"  15     \"R\"   \"GT3\"     \"T\"    1    1     \"other\"     \"other\"   \n3     GP  \"F\"  15     \"R\"   \"GT3\"     \"T\"    2    2   \"at_home\"     \"other\"   \n4     GP  \"F\"  15     \"R\"   \"GT3\"     \"T\"    2    4  \"services\"    \"health\"   \n5     GP  \"F\"  15     \"R\"   \"GT3\"     \"T\"    3    3  \"services\"  \"services\"   \n\n         reason guardian_mat traveltime_mat studytime_mat failures_mat  \\\n0        \"home\"     \"mother\"              2             4            1   \n2  \"reputation\"     \"mother\"              1             2            2   \n3  \"reputation\"     \"mother\"              1             1            0   \n4      \"course\"     \"mother\"              1             3            0   \n5  \"reputation\"      \"other\"              2             3            2   \n\n  schoolsup_mat famsup_mat paid_mat activities_mat nursery higher_mat  \\\n0             1          1        1              1       1          1   \n2             1          1        0              0       0          1   \n3             1          1        1              1       1          1   \n4             1          1        1              1       1          1   \n5             0          1        1              1       1          1   \n\n  internet romantic_mat famrel_mat freetime_mat goout_mat Dalc_mat Walc_mat  \\\n0        1            0          3            1         2        1        1   \n2        1            1          3            3         4        2        4   \n3        0            0          4            3         1        1        1   \n4        1            0          4            3         2        1        1   \n5        1            1          4            2         1        2        3   \n\n  health_mat absences_mat G1_mat G2_mat G3_mat guardian_por traveltime_por  \\\n0          1            2    \"7\"   \"10\"     10     \"mother\"              2   \n2          5            2    \"8\"    \"6\"      5     \"mother\"              1   \n3          2            8   \"14\"   \"13\"     13     \"mother\"              1   \n4          5            2   \"10\"    \"9\"      8     \"mother\"              1   \n5          3            8   \"10\"   \"10\"     10      \"other\"              2   \n\n  studytime_por failures_por schoolsup_por famsup_por paid_por activities_por  \\\n0             4            0             1          1        1              1   \n2             2            0             1          1        0              0   \n3             1            0             1          1        0              1   \n4             3            0             1          1        0              1   \n5             3            0             0          1        1              1   \n\n  higher_por romantic_por famrel_por freetime_por goout_por Dalc_por Walc_por  \\\n0          1            0          3            1         2        1        1   \n2          1            1          3            3         4        2        4   \n3          1            0          4            3         1        1        1   \n4          1            0          4            3         2        1        1   \n5          1            1          4            2         1        2        3   \n\n  health_por absences_por G1_por G2_por G3_por  final_mat  final_por  \n0          1            4   \"13\"   \"13\"     13         50         65  \n2          5            2   \"13\"   \"11\"     11         25         55  \n3          2            8   \"14\"   \"13\"     12         65         60  \n4          5            2   \"10\"   \"11\"     10         40         50  \n5          3            2   \"13\"   \"13\"     13         50         65  ",
            "text/html": "<div>\n<style scoped>\n    .dataframe tbody tr th:only-of-type {\n        vertical-align: middle;\n    }\n\n    .dataframe tbody tr th {\n        vertical-align: top;\n    }\n\n    .dataframe thead th {\n        text-align: right;\n    }\n</style>\n<table border=\"1\" class=\"dataframe\">\n  <thead>\n    <tr style=\"text-align: right;\">\n      <th></th>\n      <th>school</th>\n      <th>sex</th>\n      <th>age</th>\n      <th>address</th>\n      <th>famsize</th>\n      <th>Pstatus</th>\n      <th>Medu</th>\n      <th>Fedu</th>\n      <th>Mjob</th>\n      <th>Fjob</th>\n      <th>reason</th>\n      <th>guardian_mat</th>\n      <th>traveltime_mat</th>\n      <th>studytime_mat</th>\n      <th>failures_mat</th>\n      <th>schoolsup_mat</th>\n      <th>famsup_mat</th>\n      <th>paid_mat</th>\n      <th>activities_mat</th>\n      <th>nursery</th>\n      <th>higher_mat</th>\n      <th>internet</th>\n      <th>romantic_mat</th>\n      <th>famrel_mat</th>\n      <th>freetime_mat</th>\n      <th>goout_mat</th>\n      <th>Dalc_mat</th>\n      <th>Walc_mat</th>\n      <th>health_mat</th>\n      <th>absences_mat</th>\n      <th>G1_mat</th>\n      <th>G2_mat</th>\n      <th>G3_mat</th>\n      <th>guardian_por</th>\n      <th>traveltime_por</th>\n      <th>studytime_por</th>\n      <th>failures_por</th>\n      <th>schoolsup_por</th>\n      <th>famsup_por</th>\n      <th>paid_por</th>\n      <th>activities_por</th>\n      <th>higher_por</th>\n      <th>romantic_por</th>\n      <th>famrel_por</th>\n      <th>freetime_por</th>\n      <th>goout_por</th>\n      <th>Dalc_por</th>\n      <th>Walc_por</th>\n      <th>health_por</th>\n      <th>absences_por</th>\n      <th>G1_por</th>\n      <th>G2_por</th>\n      <th>G3_por</th>\n      <th>final_mat</th>\n      <th>final_por</th>\n    </tr>\n  </thead>\n  <tbody>\n    <tr>\n      <th>0</th>\n      <td>GP</td>\n      <td>\"F\"</td>\n      <td>15</td>\n      <td>\"R\"</td>\n      <td>\"GT3\"</td>\n      <td>\"T\"</td>\n      <td>1</td>\n      <td>1</td>\n      <td>\"at_home\"</td>\n      <td>\"other\"</td>\n      <td>\"home\"</td>\n      <td>\"mother\"</td>\n      <td>2</td>\n      <td>4</td>\n      <td>1</td>\n      <td>1</td>\n      <td>1</td>\n      <td>1</td>\n      <td>1</td>\n      <td>1</td>\n      <td>1</td>\n      <td>1</td>\n      <td>0</td>\n      <td>3</td>\n      <td>1</td>\n      <td>2</td>\n      <td>1</td>\n      <td>1</td>\n      <td>1</td>\n      <td>2</td>\n      <td>\"7\"</td>\n      <td>\"10\"</td>\n      <td>10</td>\n      <td>\"mother\"</td>\n      <td>2</td>\n      <td>4</td>\n      <td>0</td>\n      <td>1</td>\n      <td>1</td>\n      <td>1</td>\n      <td>1</td>\n      <td>1</td>\n      <td>0</td>\n      <td>3</td>\n      <td>1</td>\n      <td>2</td>\n      <td>1</td>\n      <td>1</td>\n      <td>1</td>\n      <td>4</td>\n      <td>\"13\"</td>\n      <td>\"13\"</td>\n      <td>13</td>\n      <td>50</td>\n      <td>65</td>\n    </tr>\n    <tr>\n      <th>2</th>\n      <td>GP</td>\n      <td>\"F\"</td>\n      <td>15</td>\n      <td>\"R\"</td>\n      <td>\"GT3\"</td>\n      <td>\"T\"</td>\n      <td>1</td>\n      <td>1</td>\n      <td>\"other\"</td>\n      <td>\"other\"</td>\n      <td>\"reputation\"</td>\n      <td>\"mother\"</td>\n      <td>1</td>\n      <td>2</td>\n      <td>2</td>\n      <td>1</td>\n      <td>1</td>\n      <td>0</td>\n      <td>0</td>\n      <td>0</td>\n      <td>1</td>\n      <td>1</td>\n      <td>1</td>\n      <td>3</td>\n      <td>3</td>\n      <td>4</td>\n      <td>2</td>\n      <td>4</td>\n      <td>5</td>\n      <td>2</td>\n      <td>\"8\"</td>\n      <td>\"6\"</td>\n      <td>5</td>\n      <td>\"mother\"</td>\n      <td>1</td>\n      <td>2</td>\n      <td>0</td>\n      <td>1</td>\n      <td>1</td>\n      <td>0</td>\n      <td>0</td>\n      <td>1</td>\n      <td>1</td>\n      <td>3</td>\n      <td>3</td>\n      <td>4</td>\n      <td>2</td>\n      <td>4</td>\n      <td>5</td>\n      <td>2</td>\n      <td>\"13\"</td>\n      <td>\"11\"</td>\n      <td>11</td>\n      <td>25</td>\n      <td>55</td>\n    </tr>\n    <tr>\n      <th>3</th>\n      <td>GP</td>\n      <td>\"F\"</td>\n      <td>15</td>\n      <td>\"R\"</td>\n      <td>\"GT3\"</td>\n      <td>\"T\"</td>\n      <td>2</td>\n      <td>2</td>\n      <td>\"at_home\"</td>\n      <td>\"other\"</td>\n      <td>\"reputation\"</td>\n      <td>\"mother\"</td>\n      <td>1</td>\n      <td>1</td>\n      <td>0</td>\n      <td>1</td>\n      <td>1</td>\n      <td>1</td>\n      <td>1</td>\n      <td>1</td>\n      <td>1</td>\n      <td>0</td>\n      <td>0</td>\n      <td>4</td>\n      <td>3</td>\n      <td>1</td>\n      <td>1</td>\n      <td>1</td>\n      <td>2</td>\n      <td>8</td>\n      <td>\"14\"</td>\n      <td>\"13\"</td>\n      <td>13</td>\n      <td>\"mother\"</td>\n      <td>1</td>\n      <td>1</td>\n      <td>0</td>\n      <td>1</td>\n      <td>1</td>\n      <td>0</td>\n      <td>1</td>\n      <td>1</td>\n      <td>0</td>\n      <td>4</td>\n      <td>3</td>\n      <td>1</td>\n      <td>1</td>\n      <td>1</td>\n      <td>2</td>\n      <td>8</td>\n      <td>\"14\"</td>\n      <td>\"13\"</td>\n      <td>12</td>\n      <td>65</td>\n      <td>60</td>\n    </tr>\n    <tr>\n      <th>4</th>\n      <td>GP</td>\n      <td>\"F\"</td>\n      <td>15</td>\n      <td>\"R\"</td>\n      <td>\"GT3\"</td>\n      <td>\"T\"</td>\n      <td>2</td>\n      <td>4</td>\n      <td>\"services\"</td>\n      <td>\"health\"</td>\n      <td>\"course\"</td>\n      <td>\"mother\"</td>\n      <td>1</td>\n      <td>3</td>\n      <td>0</td>\n      <td>1</td>\n      <td>1</td>\n      <td>1</td>\n      <td>1</td>\n      <td>1</td>\n      <td>1</td>\n      <td>1</td>\n      <td>0</td>\n      <td>4</td>\n      <td>3</td>\n      <td>2</td>\n      <td>1</td>\n      <td>1</td>\n      <td>5</td>\n      <td>2</td>\n      <td>\"10\"</td>\n      <td>\"9\"</td>\n      <td>8</td>\n      <td>\"mother\"</td>\n      <td>1</td>\n      <td>3</td>\n      <td>0</td>\n      <td>1</td>\n      <td>1</td>\n      <td>0</td>\n      <td>1</td>\n      <td>1</td>\n      <td>0</td>\n      <td>4</td>\n      <td>3</td>\n      <td>2</td>\n      <td>1</td>\n      <td>1</td>\n      <td>5</td>\n      <td>2</td>\n      <td>\"10\"</td>\n      <td>\"11\"</td>\n      <td>10</td>\n      <td>40</td>\n      <td>50</td>\n    </tr>\n    <tr>\n      <th>5</th>\n      <td>GP</td>\n      <td>\"F\"</td>\n      <td>15</td>\n      <td>\"R\"</td>\n      <td>\"GT3\"</td>\n      <td>\"T\"</td>\n      <td>3</td>\n      <td>3</td>\n      <td>\"services\"</td>\n      <td>\"services\"</td>\n      <td>\"reputation\"</td>\n      <td>\"other\"</td>\n      <td>2</td>\n      <td>3</td>\n      <td>2</td>\n      <td>0</td>\n      <td>1</td>\n      <td>1</td>\n      <td>1</td>\n      <td>1</td>\n      <td>1</td>\n      <td>1</td>\n      <td>1</td>\n      <td>4</td>\n      <td>2</td>\n      <td>1</td>\n      <td>2</td>\n      <td>3</td>\n      <td>3</td>\n      <td>8</td>\n      <td>\"10\"</td>\n      <td>\"10\"</td>\n      <td>10</td>\n      <td>\"other\"</td>\n      <td>2</td>\n      <td>3</td>\n      <td>0</td>\n      <td>0</td>\n      <td>1</td>\n      <td>1</td>\n      <td>1</td>\n      <td>1</td>\n      <td>1</td>\n      <td>4</td>\n      <td>2</td>\n      <td>1</td>\n      <td>2</td>\n      <td>3</td>\n      <td>3</td>\n      <td>2</td>\n      <td>\"13\"</td>\n      <td>\"13\"</td>\n      <td>13</td>\n      <td>50</td>\n      <td>65</td>\n    </tr>\n  </tbody>\n</table>\n</div>"
          },
          "metadata": {}
        }
      ],
      "execution_count": 16,
      "metadata": {
        "ExecuteTime": {
          "end_time": "2024-11-22T00:37:46.020793Z",
          "start_time": "2024-11-22T00:37:45.987209Z"
        }
      },
      "id": "645ab4fac14f7bb5"
    },
    {
      "cell_type": "code",
      "source": [
        "covariance = mat_stud2[\"romantic_mat\"].cov(mat_stud2[\"higher_mat\"])\n",
        "variance_romantic = mat_stud2[\"romantic_mat\"].astype(\"Int64\").var(axis=0)\n",
        "variance_higher = mat_stud2[\"higher_mat\"].astype(\"Int64\").var(axis=0)\n",
        "(covariance / ((variance_romantic * variance_higher) ** 0.5))\n",
        "\n",
        "# here we calculate the correlation. there is slight-to-none indication,\n",
        "# that if a person is in a relationship, then he/she is less likely to\n",
        "# begin higher education"
      ],
      "outputs": [
        {
          "output_type": "execute_result",
          "execution_count": 17,
          "data": {
            "text/plain": "np.float64(-0.1099841050084016)"
          },
          "metadata": {}
        }
      ],
      "execution_count": 17,
      "metadata": {
        "ExecuteTime": {
          "end_time": "2024-11-22T00:37:46.029732Z",
          "start_time": "2024-11-22T00:37:46.020793Z"
        }
      },
      "id": "1768bc22eb1f532c"
    },
    {
      "cell_type": "code",
      "source": [
        "covariance_fin = mat_stud2[\"romantic_mat\"].cov(mat_stud2[\"final_mat\"])\n",
        "variance_final = mat_stud2[\"final_mat\"].astype(\"Int64\").var(axis=0)\n",
        "(covariance_fin / ((variance_romantic * variance_final) ** 0.5))\n",
        "# the similar result (slight-to-none indication) is with the correlation between being \n",
        "# in relationship and having worse grades"
      ],
      "outputs": [
        {
          "output_type": "execute_result",
          "execution_count": 18,
          "data": {
            "text/plain": "np.float64(-0.12379045993516216)"
          },
          "metadata": {}
        }
      ],
      "execution_count": 18,
      "metadata": {
        "ExecuteTime": {
          "end_time": "2024-11-22T00:37:46.039664Z",
          "start_time": "2024-11-22T00:37:46.029732Z"
        }
      },
      "id": "935c587bef4d4929"
    }
  ],
  "metadata": {
    "kernelspec": {
      "name": "python",
      "language": "python",
      "display_name": "Pyolite (preview)"
    },
    "language_info": {
      "codemirror_mode": {
        "name": "python",
        "version": 3
      },
      "file_extension": ".py",
      "mimetype": "text/x-python",
      "name": "python",
      "nbconvert_exporter": "python",
      "pygments_lexer": "ipython3",
      "version": "3.8"
    },
    "kernel_info": {
      "name": "python"
    },
    "nteract": {
      "version": "nteract-front-end@1.0.0"
    }
  },
  "nbformat": 4,
  "nbformat_minor": 5
}